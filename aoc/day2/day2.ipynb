{
 "cells": [
  {
   "cell_type": "code",
   "execution_count": 2,
   "metadata": {},
   "outputs": [],
   "source": [
    "import pandas as pd\n",
    "import numpy as np\n",
    "import matplotlib.pyplot as plt\n",
    "import seaborn as sns\n",
    "from astropy.table import Table, QTable\n",
    "import astropy.units as u\n",
    "import scipy\n",
    "import sklearn"
   ]
  },
  {
   "cell_type": "code",
   "execution_count": 31,
   "metadata": {},
   "outputs": [
    {
     "name": "stdout",
     "output_type": "stream",
     "text": [
      "13726\n"
     ]
    }
   ],
   "source": [
    "import numpy as np\n",
    "import pandas as pd\n",
    "\n",
    "from enum import IntEnum\n",
    "\n",
    "\n",
    "class Scores(IntEnum):\n",
    "    win = 6\n",
    "    draw = 3\n",
    "    lose = 0\n",
    "    \n",
    "\n",
    "class RPS(IntEnum):\n",
    "    rock = 1\n",
    "    paper = 2\n",
    "    scissors = 3\n",
    "    \n",
    "wins = {1:2, 2:3, 3:1}\n",
    "losses = {1:3, 2:1, 3:2}\n",
    "    \n",
    " \n",
    "d = {\"A\": 1, \"B\": 2, \"C\": 3}   \n",
    "#d2 = {\"X\": 1, \"Y\": 2, \"Z\": 3} # What if lose draw win  \n",
    "d2 = {\"X\": 0, \"Y\": 3, \"Z\": 6} # What if lose draw win  \n",
    "    \n",
    "def rules(s1, s2):\n",
    "    \n",
    "    p1, p2 = d[s1], d2[s2] \n",
    "    \n",
    "    \n",
    "    if p1 == p2:\n",
    "        return Scores.draw + p2\n",
    "    \n",
    "    if RPS(p1) is RPS.rock:\n",
    "        if RPS(p2) is RPS.paper:\n",
    "            return Scores.win  + p2\n",
    "        return Scores.lose  + p2\n",
    "    \n",
    "    if RPS(p1) is RPS.paper:\n",
    "        if RPS(p2) is RPS.scissors:\n",
    "            return Scores.win  + p2\n",
    "        return Scores.lose  + p2\n",
    "    \n",
    "    if RPS(p1) is RPS.scissors:\n",
    "        if RPS(p2) is RPS.rock:\n",
    "            return Scores.win + p2 \n",
    "        return Scores.lose  + p2\n",
    "    \n",
    "    \n",
    "def new_rules(s1, s2):\n",
    "    \n",
    "    p1, p2 = d[s1], d2[s2] \n",
    "    \n",
    "    if Scores(p2) is Scores.draw:\n",
    "        return Scores.draw + p1\n",
    "    \n",
    "    if Scores(p2) is Scores.win:\n",
    "        return wins[p1] + Scores.win\n",
    "    \n",
    "    if Scores(p2) is Scores.lose:\n",
    "        return losses[p1] + Scores.lose\n",
    "        \n",
    "\n",
    "\n",
    "df = pd.read_csv('input.txt', header=None, names=['p1', 'p2'], delim_whitespace=True)\n",
    "\n",
    "#ms = df.apply(lambda x: rules(x.p1, x.p2), axis=1)\n",
    "ms = df.apply(lambda x: new_rules(x.p1, x.p2), axis=1)\n",
    "print(ms.sum())\n",
    "#print(ms)\n",
    "#df.head()"
   ]
  },
  {
   "cell_type": "code",
   "execution_count": 22,
   "metadata": {},
   "outputs": [
    {
     "data": {
      "text/plain": [
       "<RPS.rock: 1>"
      ]
     },
     "execution_count": 22,
     "metadata": {},
     "output_type": "execute_result"
    }
   ],
   "source": [
    "RPS(1)"
   ]
  },
  {
   "cell_type": "code",
   "execution_count": 10,
   "metadata": {},
   "outputs": [
    {
     "data": {
      "text/html": [
       "<div>\n",
       "<style scoped>\n",
       "    .dataframe tbody tr th:only-of-type {\n",
       "        vertical-align: middle;\n",
       "    }\n",
       "\n",
       "    .dataframe tbody tr th {\n",
       "        vertical-align: top;\n",
       "    }\n",
       "\n",
       "    .dataframe thead th {\n",
       "        text-align: right;\n",
       "    }\n",
       "</style>\n",
       "<table border=\"1\" class=\"dataframe\">\n",
       "  <thead>\n",
       "    <tr style=\"text-align: right;\">\n",
       "      <th></th>\n",
       "      <th>p1</th>\n",
       "      <th>p2</th>\n",
       "      <th>s</th>\n",
       "    </tr>\n",
       "  </thead>\n",
       "  <tbody>\n",
       "    <tr>\n",
       "      <th>0</th>\n",
       "      <td>A</td>\n",
       "      <td>Z</td>\n",
       "      <td>9</td>\n",
       "    </tr>\n",
       "    <tr>\n",
       "      <th>1</th>\n",
       "      <td>A</td>\n",
       "      <td>Z</td>\n",
       "      <td>9</td>\n",
       "    </tr>\n",
       "    <tr>\n",
       "      <th>2</th>\n",
       "      <td>C</td>\n",
       "      <td>Y</td>\n",
       "      <td>2</td>\n",
       "    </tr>\n",
       "    <tr>\n",
       "      <th>3</th>\n",
       "      <td>A</td>\n",
       "      <td>X</td>\n",
       "      <td>4</td>\n",
       "    </tr>\n",
       "    <tr>\n",
       "      <th>4</th>\n",
       "      <td>A</td>\n",
       "      <td>X</td>\n",
       "      <td>4</td>\n",
       "    </tr>\n",
       "    <tr>\n",
       "      <th>...</th>\n",
       "      <td>...</td>\n",
       "      <td>...</td>\n",
       "      <td>...</td>\n",
       "    </tr>\n",
       "    <tr>\n",
       "      <th>2495</th>\n",
       "      <td>A</td>\n",
       "      <td>Z</td>\n",
       "      <td>9</td>\n",
       "    </tr>\n",
       "    <tr>\n",
       "      <th>2496</th>\n",
       "      <td>B</td>\n",
       "      <td>Z</td>\n",
       "      <td>9</td>\n",
       "    </tr>\n",
       "    <tr>\n",
       "      <th>2497</th>\n",
       "      <td>B</td>\n",
       "      <td>Z</td>\n",
       "      <td>9</td>\n",
       "    </tr>\n",
       "    <tr>\n",
       "      <th>2498</th>\n",
       "      <td>C</td>\n",
       "      <td>Y</td>\n",
       "      <td>2</td>\n",
       "    </tr>\n",
       "    <tr>\n",
       "      <th>2499</th>\n",
       "      <td>B</td>\n",
       "      <td>Z</td>\n",
       "      <td>9</td>\n",
       "    </tr>\n",
       "  </tbody>\n",
       "</table>\n",
       "<p>2500 rows × 3 columns</p>\n",
       "</div>"
      ],
      "text/plain": [
       "     p1 p2  s\n",
       "0     A  Z  9\n",
       "1     A  Z  9\n",
       "2     C  Y  2\n",
       "3     A  X  4\n",
       "4     A  X  4\n",
       "...  .. .. ..\n",
       "2495  A  Z  9\n",
       "2496  B  Z  9\n",
       "2497  B  Z  9\n",
       "2498  C  Y  2\n",
       "2499  B  Z  9\n",
       "\n",
       "[2500 rows x 3 columns]"
      ]
     },
     "execution_count": 10,
     "metadata": {},
     "output_type": "execute_result"
    }
   ],
   "source": [
    "df['s'] = df.apply(lambda x: score(x.p1, x.p2), axis=1)\n",
    "df"
   ]
  },
  {
   "cell_type": "code",
   "execution_count": 19,
   "metadata": {},
   "outputs": [
    {
     "data": {
      "text/plain": [
       "12603"
      ]
     },
     "execution_count": 19,
     "metadata": {},
     "output_type": "execute_result"
    }
   ],
   "source": [
    "df2 = pd.DataFrame()\n",
    "df2['s1'] = df.p1.apply(lambda x: d[x])\n",
    "df2['s2'] = df.p2.apply(lambda x: d2[x])\n",
    "\n",
    "\n",
    "def score2(s1, s2):\n",
    "    wld = 0\n",
    "    if s1 == s2:\n",
    "        wld = 3\n",
    "    elif s2 > s1:\n",
    "        wld = 6\n",
    "    elif s2 < s1:\n",
    "        wld = 0\n",
    "        \n",
    "    return wld + s2\n",
    "\n",
    "df2['r'] = df2.apply(lambda x: score2(x.s1, x.s2), axis=1)\n",
    "df2['r'].sum()"
   ]
  },
  {
   "cell_type": "code",
   "execution_count": 12,
   "metadata": {},
   "outputs": [
    {
     "data": {
      "text/plain": [
       "9    724\n",
       "5    591\n",
       "1    412\n",
       "2    406\n",
       "4    235\n",
       "8     88\n",
       "6     44\n",
       "Name: s, dtype: int64"
      ]
     },
     "execution_count": 12,
     "metadata": {},
     "output_type": "execute_result"
    }
   ],
   "source": [
    "df.s.value_counts()"
   ]
  }
 ],
 "metadata": {
  "kernelspec": {
   "display_name": "Python 3.10.5 ('apy5')",
   "language": "python",
   "name": "python3"
  },
  "language_info": {
   "codemirror_mode": {
    "name": "ipython",
    "version": 3
   },
   "file_extension": ".py",
   "mimetype": "text/x-python",
   "name": "python",
   "nbconvert_exporter": "python",
   "pygments_lexer": "ipython3",
   "version": "3.10.5"
  },
  "orig_nbformat": 4,
  "vscode": {
   "interpreter": {
    "hash": "b6528f903a2f9375cbf7200990c7f49d09bd64e9d189711fa7e4e748284a09be"
   }
  }
 },
 "nbformat": 4,
 "nbformat_minor": 2
}
