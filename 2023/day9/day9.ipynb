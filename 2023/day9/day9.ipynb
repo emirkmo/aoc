{
 "cells": [
  {
   "cell_type": "code",
   "execution_count": 1,
   "metadata": {},
   "outputs": [
    {
     "data": {
      "text/plain": [
       "<Puzzle(2023, 9) at 0x7fe6c7814e10 - Mirage Maintenance>"
      ]
     },
     "execution_count": 1,
     "metadata": {},
     "output_type": "execute_result"
    }
   ],
   "source": [
    "from aocd.models import Puzzle\n",
    "# from pathlib import Path\n",
    "# import os\n",
    "\n",
    "\n",
    "# token_path = Path()\n",
    "# token = with open(os.path.expanduser('~/.aocd/token')) as f:\n",
    "\n",
    "puzzle = Puzzle(2023, 9)\n",
    "puzzle"
   ]
  },
  {
   "cell_type": "code",
   "execution_count": 60,
   "metadata": {},
   "outputs": [
    {
     "data": {
      "text/plain": [
       "(1757008019, 995)"
      ]
     },
     "execution_count": 60,
     "metadata": {},
     "output_type": "execute_result"
    }
   ],
   "source": [
    "from distutils import debug\n",
    "import numpy as np\n",
    "from numpy.typing import NDArray\n",
    "\n",
    "lines = puzzle.input_data.split(\"\\n\")\n",
    "\n",
    "def get_array_from_line(line: str) -> NDArray[np.int64]:\n",
    "    return np.array(line.split()).astype(int)\n",
    "\n",
    "def fill_in_last_from_zero_diff(a: NDArray[np.int64]) -> int:\n",
    "    last_vals: list[int] = [a[-1]]\n",
    "    while not np.all(a == 0):\n",
    "        a = np.diff(a)\n",
    "        last_vals.append(a[-1])\n",
    "    return sum(last_vals)\n",
    "\n",
    "def get_extrapolated_first(first_vals: list[int]) -> int:\n",
    "    curr_val = first_vals.pop()\n",
    "    while len(first_vals) > 0:\n",
    "        next_val = first_vals.pop()\n",
    "        curr_val = next_val - curr_val\n",
    "    return curr_val\n",
    "\n",
    "def fill_in_first_from_zero_diff(a: NDArray[np.int64]) -> int:\n",
    "    first_vals: list[int] = [a[0]]\n",
    "    while not np.all(a == 0):\n",
    "        a = np.diff(a)\n",
    "        first_vals.append(a[0])\n",
    "    return get_extrapolated_first(first_vals)\n",
    "\n",
    "history_sum = 0\n",
    "first_sum = 0\n",
    "for line in lines:\n",
    "    a = get_array_from_line(line)\n",
    "    history_sum += fill_in_last_from_zero_diff(a)\n",
    "    first_sum += fill_in_first_from_zero_diff(a)\n",
    "history_sum, first_sum"
   ]
  },
  {
   "cell_type": "code",
   "execution_count": 61,
   "metadata": {},
   "outputs": [
    {
     "name": "stderr",
     "output_type": "stream",
     "text": [
      "coerced int64 value 995 for 2023/09\n"
     ]
    },
    {
     "name": "stdout",
     "output_type": "stream",
     "text": [
      "\u001b[32mThat's the right answer!  You are one gold star closer to restoring snow operations.You have completed Day 9! You can [Shareon\n",
      "  Twitter\n",
      "Mastodon] this victory or [Return to Your Advent Calendar].\u001b[0m\n"
     ]
    }
   ],
   "source": [
    "puzzle.answer_b = first_sum\n"
   ]
  }
 ],
 "metadata": {
  "kernelspec": {
   "display_name": "aoc",
   "language": "python",
   "name": "python3"
  },
  "language_info": {
   "codemirror_mode": {
    "name": "ipython",
    "version": 3
   },
   "file_extension": ".py",
   "mimetype": "text/x-python",
   "name": "python",
   "nbconvert_exporter": "python",
   "pygments_lexer": "ipython3",
   "version": "3.11.0"
  }
 },
 "nbformat": 4,
 "nbformat_minor": 2
}
