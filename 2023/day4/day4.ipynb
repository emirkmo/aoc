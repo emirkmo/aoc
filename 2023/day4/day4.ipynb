{
 "cells": [
  {
   "cell_type": "code",
   "execution_count": 14,
   "metadata": {},
   "outputs": [
    {
     "data": {
      "text/plain": [
       "25651"
      ]
     },
     "execution_count": 14,
     "metadata": {},
     "output_type": "execute_result"
    }
   ],
   "source": [
    "from pathlib import Path\n",
    "import numpy as np\n",
    "import pandas as pd\n",
    "\n",
    "with open(\"input.txt\") as f:\n",
    "    lines = f.readlines()\n",
    "\n",
    "lines = [line.split(\":\")[1].split(\"|\") for line in lines]\n",
    "\n",
    "total_points = 0\n",
    "for card in lines:\n",
    "    winning = {int(num.strip()) for num in card[0].split()}\n",
    "    numbers = {int(num.strip()) for num in card[1].split()}\n",
    "\n",
    "    winning_numbers = winning.intersection(numbers)\n",
    "    if winning_numbers:\n",
    "        total_points += 2**(len(winning_numbers)-1)\n",
    "\n",
    "total_points\n",
    "\n",
    "# while len(queue) > 0:\n",
    "#     card = queue.popleft()\n",
    "\n",
    "#     winning = {int(num.strip()) for num in card[0].split()}\n",
    "#     numbers = {int(num.strip()) for num in card[1].split()}\n",
    "\n",
    "#     winning_numbers = winning.intersection(numbers)\n",
    "#     cards_won = len(winning_numbers)\n",
    "\n",
    "#     for j in range(cards_won):\n",
    "#         if card_num+j >= len(lines):\n",
    "#             continue\n",
    "#         queue.append(lines[card_num+j+1])\n",
    "#     i+=1\n",
    "\n"
   ]
  },
  {
   "cell_type": "code",
   "execution_count": 26,
   "metadata": {},
   "outputs": [],
   "source": [
    "# queue = deque() \n",
    "# queue.extend(list(range(len(lines))))\n",
    "# for q in queue:\n",
    "#     print(q)"
   ]
  },
  {
   "cell_type": "code",
   "execution_count": 27,
   "metadata": {},
   "outputs": [
    {
     "name": "stdout",
     "output_type": "stream",
     "text": [
      "9 10\n",
      "8 10\n",
      "7 10\n",
      "6 10\n",
      "5 10\n",
      "4 10\n",
      "3 10\n",
      "2 10\n",
      "1 10\n",
      "0 10\n",
      "9 10\n",
      "8 10\n",
      "7 10\n",
      "6 10\n",
      "5 10\n",
      "4 10\n",
      "3 10\n",
      "2 10\n",
      "1 10\n",
      "0 10\n",
      "9 10\n",
      "8 10\n",
      "7 10\n",
      "6 10\n",
      "5 10\n",
      "4 10\n",
      "3 10\n",
      "2 10\n",
      "1 10\n",
      "0 10\n",
      "9 10\n",
      "8 10\n",
      "7 10\n",
      "6 10\n",
      "5 10\n",
      "4 10\n",
      "3 10\n",
      "2 10\n",
      "1 10\n",
      "0 10\n",
      "6 7\n",
      "5 7\n",
      "4 7\n",
      "3 7\n",
      "2 7\n",
      "1 7\n",
      "0 7\n",
      "4 5\n",
      "3 5\n",
      "2 5\n",
      "1 5\n",
      "0 5\n",
      "5 6\n",
      "4 6\n",
      "3 6\n",
      "2 6\n",
      "1 6\n",
      "0 6\n",
      "0 1\n",
      "3 4\n",
      "2 4\n",
      "1 4\n",
      "0 4\n",
      "1 2\n",
      "0 2\n",
      "1 2\n",
      "0 2\n",
      "0 1\n",
      "4 5\n",
      "3 5\n",
      "2 5\n",
      "1 5\n",
      "0 5\n",
      "9 10\n",
      "8 10\n",
      "7 10\n",
      "6 10\n",
      "5 10\n",
      "4 10\n",
      "3 10\n",
      "2 10\n",
      "1 10\n",
      "0 10\n",
      "9 10\n",
      "8 10\n",
      "7 10\n",
      "6 10\n",
      "5 10\n",
      "4 10\n",
      "3 10\n",
      "2 10\n",
      "1 10\n",
      "0 10\n",
      "3 4\n",
      "2 4\n",
      "1 4\n",
      "0 4\n"
     ]
    }
   ],
   "source": [
    "from collections import deque\n",
    "\n",
    "queue = deque()\n",
    "queue.extend(list(range(len(lines))))\n",
    "\n",
    "winning_list: dict[int, int] = {}\n",
    "for i, card in enumerate(lines):\n",
    "    winning = {int(num.strip()) for num in card[0].split()}\n",
    "    numbers = {int(num.strip()) for num in card[1].split()}\n",
    "    winning_numbers = winning.intersection(numbers)\n",
    "    winning_list[i] = len(winning_numbers)\n",
    "    # winning_list.append(winning_numbers)\n",
    "\n",
    "\n",
    "total_cards = 0\n",
    "while len(queue) > 0:\n",
    "    card_num = queue.popleft()\n",
    "    cards_won = winning_list.get(card_num)\n",
    "    if cards_won is None:\n",
    "        break\n",
    "\n",
    "    total_cards += 1\n",
    "\n",
    "    for j in range(cards_won)[::-1]:\n",
    "        if total_cards < 20:\n",
    "            print(j, cards_won)\n",
    "\n",
    "        if card_num+j+1 < len(lines):\n",
    "            queue.append(card_num+j+1)\n",
    "\n"
   ]
  },
  {
   "cell_type": "code",
   "execution_count": 28,
   "metadata": {},
   "outputs": [
    {
     "data": {
      "text/plain": [
       "19499881"
      ]
     },
     "execution_count": 28,
     "metadata": {},
     "output_type": "execute_result"
    }
   ],
   "source": [
    "total_cards"
   ]
  },
  {
   "cell_type": "code",
   "execution_count": null,
   "metadata": {},
   "outputs": [],
   "source": []
  }
 ],
 "metadata": {
  "kernelspec": {
   "display_name": "aoc",
   "language": "python",
   "name": "python3"
  },
  "language_info": {
   "codemirror_mode": {
    "name": "ipython",
    "version": 3
   },
   "file_extension": ".py",
   "mimetype": "text/x-python",
   "name": "python",
   "nbconvert_exporter": "python",
   "pygments_lexer": "ipython3",
   "version": "3.11.0"
  }
 },
 "nbformat": 4,
 "nbformat_minor": 2
}
