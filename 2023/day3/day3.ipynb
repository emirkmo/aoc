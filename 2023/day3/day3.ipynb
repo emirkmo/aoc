{
 "cells": [
  {
   "cell_type": "code",
   "execution_count": 22,
   "metadata": {},
   "outputs": [
    {
     "name": "stdout",
     "output_type": "stream",
     "text": [
      "140 140\n"
     ]
    },
    {
     "data": {
      "text/plain": [
       "array(['.', '.', '.', '.', '.', '.', '.', '.', '.', '.', '.', '.', '.',\n",
       "       '.', '.', '.', '.', '.', '.', '.', '.', '.', '.', '.', '.', '.',\n",
       "       '.', '.', '.', '8', '7', '.', '.', '.', '6', '2', '2', '.', '.',\n",
       "       '.', '.', '.', '.', '.', '.', '.', '.', '.', '.', '.', '.', '.',\n",
       "       '.', '.', '.', '.', '.', '.', '.', '.', '.', '.', '.', '8', '2',\n",
       "       '2', '.', '.', '.', '.', '.', '.', '.', '.', '.', '.', '.', '.',\n",
       "       '.', '.', '.', '.', '.', '.', '.', '.', '.', '.', '.', '.', '.',\n",
       "       '.', '.', '.', '.', '.', '.', '.', '.', '.', '.', '.', '.', '.',\n",
       "       '.', '.', '.', '.', '.', '.', '.', '.', '.', '2', '1', '5', '.',\n",
       "       '.', '.', '.', '.', '.', '.', '.', '.', '.', '.', '.', '.', '8',\n",
       "       '1', '0', '.', '.', '.', '.', '.', '.', '.', '.'], dtype='<U1')"
      ]
     },
     "execution_count": 22,
     "metadata": {},
     "output_type": "execute_result"
    }
   ],
   "source": [
    "import numpy as np\n",
    "\n",
    "with open(\"input.txt\") as f:\n",
    "    lines = f.readlines()\n",
    "\n",
    "schematic_array = np.array([np.array([l for l in line if l!='\\n']) for line in lines])\n"
   ]
  },
  {
   "cell_type": "code",
   "execution_count": 24,
   "metadata": {},
   "outputs": [
    {
     "name": "stdout",
     "output_type": "stream",
     "text": [
      "(140, 140)\n"
     ]
    }
   ],
   "source": [
    "schematic_array = np.array([l for line in lines for l in line if l!= '\\n']).reshape((140,140))\n",
    "print(schematic_array.shape)\n"
   ]
  },
  {
   "cell_type": "code",
   "execution_count": 34,
   "metadata": {},
   "outputs": [
    {
     "name": "stdout",
     "output_type": "stream",
     "text": [
      "Offsets.up (1, 0)\n",
      "Offsets.down (-1, 0)\n",
      "Offsets.left (0, -1)\n",
      "Offsets.right (0, 1)\n",
      "Offsets.up_left (1, -1)\n",
      "Offsets.up_right (1, 1)\n",
      "Offsets.down_left (-1, -1)\n",
      "Offsets.down_right (-1, 1)\n"
     ]
    }
   ],
   "source": [
    "from enum import Enum\n",
    "class Offsets(Enum):\n",
    "    up = 1, 0\n",
    "    down = -1, 0\n",
    "    left = 0, -1\n",
    "    right = 0, 1\n",
    "    up_left = 1, -1\n",
    "    up_right = 1, 1\n",
    "    down_left = -1, -1\n",
    "    down_right = -1, 1\n",
    "\n",
    "for dir in Offsets:\n",
    "    print(dir, dir.value)"
   ]
  },
  {
   "cell_type": "code",
   "execution_count": 33,
   "metadata": {},
   "outputs": [
    {
     "data": {
      "text/plain": [
       "False"
      ]
     },
     "execution_count": 33,
     "metadata": {},
     "output_type": "execute_result"
    }
   ],
   "source": [
    "test = schematic_array[0,0]\n",
    "test.isdigit()"
   ]
  },
  {
   "cell_type": "code",
   "execution_count": 30,
   "metadata": {},
   "outputs": [
    {
     "name": "stdout",
     "output_type": "stream",
     "text": [
      "9 (0, 48)\n",
      "6 (0, 49)\n",
      "5 (0, 50)\n",
      "5 (0, 53)\n",
      "8 (0, 54)\n",
      "3 (0, 55)\n",
      "3 (0, 64)\n",
      "8 (0, 65)\n",
      "9 (0, 66)\n",
      "3 (0, 84)\n",
      "0 (0, 85)\n",
      "7 (0, 86)\n"
     ]
    }
   ],
   "source": [
    "it = np.nditer(schematic_array, flags=[\"multi_index\"])\n",
    "for x in enumerate(it):\n",
    "\n",
    "    numbers = []\n",
    "    was_digit = False\n",
    "    if x.isdigit():\n",
    "        was_digit = True\n",
    "        numbers.append(x)\n",
    "    if x != '.':\n",
    "        print(x, it.multi_index)\n",
    "    if i == 100:\n",
    "        break"
   ]
  },
  {
   "cell_type": "code",
   "execution_count": null,
   "metadata": {},
   "outputs": [],
   "source": []
  }
 ],
 "metadata": {
  "kernelspec": {
   "display_name": "aoc",
   "language": "python",
   "name": "python3"
  },
  "language_info": {
   "codemirror_mode": {
    "name": "ipython",
    "version": 3
   },
   "file_extension": ".py",
   "mimetype": "text/x-python",
   "name": "python",
   "nbconvert_exporter": "python",
   "pygments_lexer": "ipython3",
   "version": "3.11.0"
  }
 },
 "nbformat": 4,
 "nbformat_minor": 2
}
