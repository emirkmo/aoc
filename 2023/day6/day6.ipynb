{
 "cells": [
  {
   "cell_type": "code",
   "execution_count": 25,
   "metadata": {},
   "outputs": [
    {
     "data": {
      "text/plain": [
       "608902"
      ]
     },
     "execution_count": 25,
     "metadata": {},
     "output_type": "execute_result"
    }
   ],
   "source": [
    "from dataclasses import dataclass\n",
    "import numpy as np\n",
    "# Time:        55     82     64     90\n",
    "# Distance:   246   1441   1012   1111\n",
    "\n",
    "race_times = [(55,246),\n",
    " (82,1441),\n",
    " (64,1012),\n",
    " (90,1111)]\n",
    "\n",
    "@dataclass\n",
    "class Race:\n",
    "    time: int\n",
    "    dist: int\n",
    "\n",
    "    def hold(self, time: int) -> int:\n",
    "        # if time>self.time:\n",
    "        #     raise ValueError(\"Cannot pass race time\")\n",
    "        \n",
    "        speed = time\n",
    "        remaining_time = self.time - time\n",
    "        return remaining_time * speed\n",
    "\n",
    "\n",
    "    def get_wins(self):\n",
    "        hold_times = np.arange(self.time+1)\n",
    "\n",
    "        distances = self.hold(hold_times)\n",
    "\n",
    "        return len(distances[distances > self.dist])\n",
    "\n",
    "\n",
    "\n",
    "races = [Race(t,d) for (t, d) in race_times]\n",
    "wins = [race.get_wins() for race in races]\n",
    "\n",
    "# for race in races:\n",
    "#     print(race)\n",
    "#     wins = race.get_wins()\n",
    "#     print(len(wins))\n",
    "#     print(wins)\n",
    "\n",
    "\n",
    "np.prod(np.array(wins))\n"
   ]
  },
  {
   "cell_type": "code",
   "execution_count": 26,
   "metadata": {},
   "outputs": [
    {
     "data": {
      "text/plain": [
       "46173809"
      ]
     },
     "execution_count": 26,
     "metadata": {},
     "output_type": "execute_result"
    }
   ],
   "source": [
    "race_times = [(55,246),\n",
    " (82,1441),\n",
    " (64,1012),\n",
    " (90,1111)]\n",
    "\n",
    "race = Race(time=55826490, dist=246144110121111)\n",
    "\n",
    "race.get_wins()"
   ]
  },
  {
   "cell_type": "code",
   "execution_count": null,
   "metadata": {},
   "outputs": [],
   "source": []
  }
 ],
 "metadata": {
  "kernelspec": {
   "display_name": "aoc",
   "language": "python",
   "name": "python3"
  },
  "language_info": {
   "codemirror_mode": {
    "name": "ipython",
    "version": 3
   },
   "file_extension": ".py",
   "mimetype": "text/x-python",
   "name": "python",
   "nbconvert_exporter": "python",
   "pygments_lexer": "ipython3",
   "version": "3.11.0"
  }
 },
 "nbformat": 4,
 "nbformat_minor": 2
}
