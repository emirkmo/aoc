{
 "cells": [
  {
   "cell_type": "code",
   "execution_count": 1,
   "metadata": {},
   "outputs": [],
   "source": [
    "from pathlib import Path\n",
    "from aocd.models import Puzzle\n",
    "import numpy as np\n",
    "import pandas as pd\n",
    "import itertools\n",
    "import collections\n",
    "\n",
    "day = int(Path().resolve().stem.replace(\"day\", \"\"))\n",
    "\n",
    "puzzle = Puzzle(2023, day)\n",
    "lines = puzzle.input_data.split(\"\\n\")\n",
    "puzzle.view()"
   ]
  },
  {
   "cell_type": "markdown",
   "metadata": {},
   "source": [
    "Day 10 is a simple network problem. Each \"pipe\" only connects to the previous and next pipe, so this a a graph. From the starting position S, which, we just need to find the furthest node from S in either direction.\n",
    "\n",
    "Parsing the input into the graph isn't that simple except we are told that S only connects to two points as well, so we can just iteratively follow this."
   ]
  },
  {
   "cell_type": "code",
   "execution_count": null,
   "metadata": {},
   "outputs": [],
   "source": [
    "pipe_meanings = {\n",
    "    \"|\": [(0, 1),(0, -1)], # up, down\n",
    "    \"-\": [(1, 0),(-1, 0)], # right, left\n",
    "    \"L\": [(1, -1),(-1, 1)], # down right, left up\n",
    "    \"J\": [(1, 1),(-1, -1)],  # right up, down left\n",
    "    \"7\": [(1, -1),(-1, 1)], # right down, up left\n",
    "    \"F\": [(1, 1),(-1, -1)],  # up right, left, down\n",
    "}\n",
    "\n",
    "directed_pipe_meanings = {\n",
    "    \"|\": [(0, 1),(0, -1)], # up, down\n",
    "    \"-\": [(1, 0),(-1, 0)], # right, left\n",
    "    \"L\": [(1, -1),(-1, 1)], # down right, left up\n",
    "    \"J\": [(1, 1),(-1, -1)],  # right up, down left\n",
    "    \"7\": [(1, -1),(-1, 1)], # right down, up left\n",
    "    \"F\": [(1, 1),(-1, -1)],  # up right, left, down\n",
    "}"
   ]
  },
  {
   "cell_type": "code",
   "execution_count": 5,
   "metadata": {},
   "outputs": [],
   "source": [
    "drawing = np.array([val for line in lines for val in line if val!= '\\n']).reshape((len(lines),len(lines[0])))\n"
   ]
  },
  {
   "cell_type": "code",
   "execution_count": 7,
   "metadata": {},
   "outputs": [
    {
     "data": {
      "text/plain": [
       "'S'"
      ]
     },
     "execution_count": 7,
     "metadata": {},
     "output_type": "execute_result"
    }
   ],
   "source": [
    "def get_starting_node() -> tuple[int, int]:\n",
    "    for row, line in enumerate(lines):\n",
    "        if \"S\" in line:\n",
    "            col = line.index(\"S\")\n",
    "            return row, col\n",
    "    raise ValueError(\"No starting node found\")\n",
    "\n",
    "get_starting_node()"
   ]
  },
  {
   "cell_type": "code",
   "execution_count": 10,
   "metadata": {},
   "outputs": [],
   "source": [
    "from dataclasses import dataclass, field\n",
    "from enum import Enum\n",
    "from pathlib import Path\n",
    "from typing import Literal\n",
    "\n",
    "import numpy as np\n",
    "from aocd.models import Puzzle\n",
    "\n",
    "\n",
    "class Cardinal(Enum):\n",
    "    up = -1, 0\n",
    "    down = 1, 0\n",
    "    left = 0, -1\n",
    "    right = 0, 1\n",
    "\n",
    "class Offsets(Enum):\n",
    "    up = 1, 0\n",
    "    down = -1, 0\n",
    "    left = 0, -1\n",
    "    right = 0, 1\n",
    "    up_left = 1, -1\n",
    "    up_right = 1, 1\n",
    "    down_left = -1, -1\n",
    "    down_right = -1, 1\n",
    "\n",
    "SYMBOL = Literal[\"|\", \"-\", \"L\", \"J\", \"7\", \"F\"]\n",
    "\n",
    "pipe_offsets: dict[SYMBOL, dict[Cardinal, Offsets]] = {\n",
    "    \"|\": {Cardinal.up: Offsets.up, Cardinal.down: Offsets.down}, # up, down\n",
    "    \"-\": {Cardinal.right: Offsets.right, Cardinal.left: Offsets.left}, # right, left\n",
    "    \"L\": {Cardinal.left: Offsets.up_left, Cardinal.down: Offsets.down_right}, # left up, down right\n",
    "    \"J\": {Cardinal.down: Offsets.down_left, Cardinal.right: Offsets.up_right},  # down left, right up\n",
    "    \"7\": {Cardinal.right: Offsets.down_right,Cardinal.up: Offsets.up_left}, # right down, up left\n",
    "    \"F\": {Cardinal.up: Offsets.up_right, Cardinal.left: Offsets.down_left},  # up right, left, down\n",
    "}\n",
    "\n",
    "pipe_headings: dict[SYMBOL, dict[Cardinal, Cardinal]] = {\n",
    "    \"|\": {Cardinal.up: Cardinal.up, Cardinal.down: Cardinal.down},\n",
    "    \"-\": {Cardinal.left: Cardinal.left, Cardinal.right: Cardinal.right},\n",
    "    \"L\": {Cardinal.down: Cardinal.right, Cardinal.left: Cardinal.up},\n",
    "    \"J\": {Cardinal.down: Cardinal.left, Cardinal.right: Cardinal.up},\n",
    "    \"7\": {Cardinal.up: Cardinal.left, Cardinal.right: Cardinal.down},\n",
    "    \"F\": {Cardinal.up: Cardinal.right, Cardinal.left: Cardinal.down},\n",
    "}\n",
    "\n",
    "\n",
    "@dataclass\n",
    "class Node:\n",
    "    row: int\n",
    "    col: int\n",
    "    symbol: SYMBOL\n",
    "    heading_map: dict[Cardinal, Cardinal] = field(init=False)\n",
    "\n",
    "    def __post_init__(self):\n",
    "        self.heading_map = pipe_headings[self.symbol]\n",
    "\n",
    "    def traverse(self, incoming_direction: Cardinal) -> Cardinal:\n",
    "        \"\"\"Tarverse in a given heading and return the next row,col and heading\"\"\"\n",
    "        # heading = pipe_headings[self.symbol][incoming_direction]\n",
    "        # offset = pipe_offsets[self.symbol][incoming_direction]\n",
    "        return self.heading_map[incoming_direction]\n",
    "        #return offset, heading\n",
    "\n",
    "\n",
    "def get_starting_node() -> tuple[int, int]:\n",
    "    for row, line in enumerate(lines):\n",
    "        if \"S\" in line:\n",
    "            col = line.index(\"S\")\n",
    "            return row, col\n",
    "    raise ValueError(\"No starting node found\")\n",
    "\n",
    "\n",
    "def find_starting_pipe(network) -> tuple[Node, Cardinal]:\n",
    "    \"\"\"Find the starting pipe\"\"\"\n",
    "    row, col = get_starting_node()\n",
    "    for direction in Cardinal:\n",
    "        new_row = row + direction.value[0]\n",
    "        new_col = col + direction.value[1]\n",
    "        symbol = network[new_row, new_col]\n",
    "        if symbol == \".\":\n",
    "            continue\n",
    "        node = Node(new_row, new_col, network[new_row, new_col])\n",
    "        try:\n",
    "            out_direction = node.traverse(direction)\n",
    "            return node, out_direction\n",
    "        except KeyError:\n",
    "            continue\n",
    "    raise ValueError(\"No starting pipe found\")\n",
    "\n",
    "\n",
    "# np.array(lines)\n",
    "\n",
    "drawing = np.array([val for line in lines for val in line if val != \"\\n\"]).reshape(\n",
    "    (len(lines), len(lines[0]))\n",
    ")\n",
    "\n",
    "\n",
    "\n",
    "def find_traversed(drawing):\n",
    "    current_node, heading = find_starting_pipe(drawing)\n",
    "    symbol = current_node.symbol\n",
    "    traversed = 1\n",
    "\n",
    "    while symbol != \"S\":\n",
    "        new_row = current_node.row + heading.value[0]\n",
    "        new_col = current_node.col + heading.value[1]\n",
    "        symbol = drawing[new_row, new_col]\n",
    "        if symbol == \"S\":\n",
    "            break\n",
    "        current_node = Node(new_row, new_col, symbol)\n",
    "        heading = current_node.traverse(heading)\n",
    "        traversed += 1\n",
    "\n",
    "    return traversed // 2 + traversed % 2\n",
    "\n",
    "#puzzle.answer_a = find_traversed(drawing)\n",
    "\n",
    "from shapely.geometry import Point\n",
    "from shapely.geometry.polygon import Polygon\n",
    "\n",
    "\n",
    "def draw_polygon_from_path(drawing) -> Polygon:\n",
    "\n",
    "    current_node, heading = find_starting_pipe(drawing)\n",
    "    symbol = current_node.symbol\n",
    "    traversed = 1\n",
    "    path = [(current_node.row, current_node.col)]\n",
    "\n",
    "    while symbol != \"S\":\n",
    "        new_row = current_node.row + heading.value[0]\n",
    "        new_col = current_node.col + heading.value[1]\n",
    "        symbol = drawing[new_row, new_col]\n",
    "        path.append((new_row, new_col))\n",
    "        if symbol == \"S\":\n",
    "            break\n",
    "        current_node = Node(new_row, new_col, symbol)\n",
    "        heading = current_node.traverse(heading)\n",
    "        traversed += 1\n",
    "\n",
    "    return Polygon(np.array(path))\n",
    "\n",
    "poly = draw_polygon_from_path(drawing)"
   ]
  },
  {
   "cell_type": "code",
   "execution_count": 29,
   "metadata": {},
   "outputs": [
    {
     "data": {
      "text/plain": [
       "383"
      ]
     },
     "execution_count": 29,
     "metadata": {},
     "output_type": "execute_result"
    }
   ],
   "source": [
    "x,y = np.meshgrid(np.arange(drawing.shape[0]), np.arange(drawing.shape[1]))\n",
    "\n",
    "\n",
    "points = np.vstack((x.flatten(),y.flatten())).T\n",
    "points = np.apply_along_axis(Point, 1, points)\n",
    "\n",
    "\n",
    "np.apply_along_axis(poly.contains, 0, points).sum()\n",
    "\n"
   ]
  },
  {
   "cell_type": "code",
   "execution_count": 39,
   "metadata": {},
   "outputs": [
    {
     "data": {
      "text/plain": [
       "383"
      ]
     },
     "execution_count": 39,
     "metadata": {},
     "output_type": "execute_result"
    }
   ],
   "source": [
    "from shapely.prepared import prep\n",
    "\n",
    "prep_poly = prep(poly)\n",
    "np.apply_along_axis(prep_poly.contains, 0, points).sum()\n"
   ]
  },
  {
   "cell_type": "code",
   "execution_count": null,
   "metadata": {},
   "outputs": [],
   "source": []
  }
 ],
 "metadata": {
  "kernelspec": {
   "display_name": "aoc",
   "language": "python",
   "name": "python3"
  },
  "language_info": {
   "codemirror_mode": {
    "name": "ipython",
    "version": 3
   },
   "file_extension": ".py",
   "mimetype": "text/x-python",
   "name": "python",
   "nbconvert_exporter": "python",
   "pygments_lexer": "ipython3",
   "version": "3.11.0"
  }
 },
 "nbformat": 4,
 "nbformat_minor": 2
}
